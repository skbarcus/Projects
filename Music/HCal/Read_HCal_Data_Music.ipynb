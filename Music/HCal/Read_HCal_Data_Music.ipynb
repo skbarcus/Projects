{
 "cells": [
  {
   "cell_type": "markdown",
   "metadata": {},
   "source": [
    "## Resources    \n",
    "* [Midi Tutorial](https://www.cs.cmu.edu/~music/cmsip/readings/MIDI%20tutorial%20for%20programmers.html#:~:text=Be%20cautious%20however%20about%20the,very%20low%20note%20will%20result.) \n",
    "* [Synthesizer to Play MIDI Files](https://onlinesequencer.net/import2/5d20579db21d61f35db35c2c988d9774?title=HCal_Test.mid)\n",
    "* [MIDIUtils Docs](https://midiutil.readthedocs.io/en/1.2.1/common.html)\n",
    "* [Jupyter Notebook Markdown/LaTeX Resources](https://towardsdatascience.com/write-markdown-latex-in-the-jupyter-notebook-10985edb91fd)\n"
   ]
  },
  {
   "cell_type": "code",
   "execution_count": 140,
   "metadata": {},
   "outputs": [],
   "source": [
    "from keras.utils import np_utils #Utilities to transform data.\n",
    "#from sklearn.preprocessing import normalize"
   ]
  },
  {
   "cell_type": "code",
   "execution_count": 80,
   "metadata": {},
   "outputs": [],
   "source": [
    "from matplotlib import pyplot as plt\n",
    "from mpl_toolkits.axes_grid1 import Divider, Size\n",
    "from mpl_toolkits.axes_grid1.mpl_axes import Axes\n",
    "import numpy as np\n",
    "import ROOT\n",
    "import sys\n",
    "from midiutil import MIDIFile"
   ]
  },
  {
   "cell_type": "code",
   "execution_count": 65,
   "metadata": {},
   "outputs": [
    {
     "name": "stdout",
     "output_type": "stream",
     "text": [
      "Reading from /home/skbarcus/JLab/SBS/HCal/Analysis/Cosmics/rootfiles/fadc_f1tdc_820.root\n",
      "306807\n"
     ]
    }
   ],
   "source": [
    "data = \"/home/skbarcus/Projects/Music/HCal/Data/\"\n",
    "\n",
    "infile = \"/home/skbarcus/JLab/SBS/HCal/Analysis/Cosmics/rootfiles/fadc_f1tdc_820.root\"\n",
    "#infile = sys.argv[1]\n",
    "\n",
    "print(\"Reading from\", infile)\n",
    "\n",
    "inFile = ROOT.TFile.Open(infile,\" READ \")\n",
    "\n",
    "tree = inFile.Get(\"T\")\n",
    "print(tree.GetEntries())"
   ]
  },
  {
   "cell_type": "code",
   "execution_count": 143,
   "metadata": {},
   "outputs": [
    {
     "name": "stdout",
     "output_type": "stream",
     "text": [
      "fADC window =  20.0\n",
      "channels =  144\n",
      "max_adc_int =  29215.0\n",
      "adc_arr shape =  (50, 144)\n"
     ]
    }
   ],
   "source": [
    "read_all = 0\n",
    "nevts = 50 #run 820 25 events was a nice sample.\n",
    "adc_samps_vals = []\n",
    "adc_vals = []\n",
    "tdc_vals = []\n",
    "hit_vals = []\n",
    "\n",
    "min_note = 0\n",
    "max_note = 115\n",
    "\n",
    "min_adc_int_hit = 7000\n",
    "max_adc_int = 0\n",
    "\n",
    "if read_all == 1:\n",
    "    loop = tree.GetEntries()\n",
    "else:\n",
    "    loop = nevts\n",
    "\n",
    "tree.GetEntry(0)\n",
    "\n",
    "fadc_window = getattr(tree,\"sbs.hcal.nsamps\") #Reads in fADC window widths.\n",
    "fadc_window = fadc_window[0]\n",
    "print('fADC window = ',fadc_window)\n",
    "\n",
    "channels = getattr(tree,\"sbs.hcal.a\") #Reads in all individual fADC samples for a whole event.\n",
    "channels = len(channels)\n",
    "print('channels = ',channels)\n",
    "\n",
    "#Loop over entries.\n",
    "for entryNum in range (0, loop):\n",
    "    tree.GetEntry(entryNum)\n",
    "    adc_samps_evt = getattr(tree,\"sbs.hcal.samps\") #Reads in all individual fADC samples for a whole event.\n",
    "    #print('adc_samps_evt = ',adc_samps_evt)\n",
    "    adc_evt = getattr(tree,\"sbs.hcal.a\") #Reads in all fADC integrals for a whole event.\n",
    "    adc_vals.append([])\n",
    "    for pmt in range(0,len(adc_evt)-2):\n",
    "        if adc_evt[pmt]>max_adc_int:\n",
    "            max_adc_int = adc_evt[pmt]\n",
    "    #print('adc_vals shape = ', adc_vals)\n",
    "    tdc_evt = getattr(tree,\"sbs.hcal.tdc\")\n",
    "    \n",
    "    for pmt in range(0,len(adc_evt)):\n",
    "        adc_vals[entryNum].append(adc_evt[pmt])\n",
    " \n",
    "print('max_adc_int = ',max_adc_int)\n",
    "\n",
    "adc_arr = np.array(adc_vals)\n",
    "print('adc_arr shape = ',adc_arr.shape)  \n",
    "#print('adc_arr = ',adc_arr)  \n"
   ]
  },
  {
   "cell_type": "code",
   "execution_count": 144,
   "metadata": {},
   "outputs": [
    {
     "name": "stdout",
     "output_type": "stream",
     "text": [
      "nevts =  50 , nPMTs =  144\n",
      "adc_int_note =  8016.0  = adc_int_note =  5\n",
      "adc_int_note =  7729.0  = adc_int_note =  3\n",
      "adc_int_note =  16731.0  = adc_int_note =  50\n",
      "adc_int_note =  7694.0  = adc_int_note =  3\n",
      "adc_int_note =  17340.0  = adc_int_note =  53\n",
      "adc_int_note =  23116.0  = adc_int_note =  83\n",
      "adc_int_note =  11604.0  = adc_int_note =  23\n",
      "adc_int_note =  7486.0  = adc_int_note =  2\n",
      "adc_int_note =  18287.0  = adc_int_note =  58\n",
      "adc_int_note =  15843.0  = adc_int_note =  45\n",
      "adc_int_note =  18136.0  = adc_int_note =  57\n",
      "adc_int_note =  26282.0  = adc_int_note =  99\n",
      "adc_int_note =  7136.0  = adc_int_note =  0\n",
      "adc_int_note =  7121.0  = adc_int_note =  0\n",
      "adc_int_note =  9318.0  = adc_int_note =  11\n",
      "adc_int_note =  7180.0  = adc_int_note =  0\n",
      "adc_int_note =  14426.0  = adc_int_note =  38\n",
      "adc_int_note =  7330.0  = adc_int_note =  1\n",
      "adc_int_note =  7744.0  = adc_int_note =  3\n",
      "adc_int_note =  10690.0  = adc_int_note =  19\n",
      "adc_int_note =  10749.0  = adc_int_note =  19\n",
      "adc_int_note =  7009.0  = adc_int_note =  0\n",
      "adc_int_note =  10392.0  = adc_int_note =  17\n",
      "adc_int_note =  8374.0  = adc_int_note =  7\n",
      "adc_int_note =  11914.0  = adc_int_note =  25\n",
      "adc_int_note =  16599.0  = adc_int_note =  49\n",
      "adc_int_note =  7427.0  = adc_int_note =  2\n",
      "adc_int_note =  17887.0  = adc_int_note =  56\n",
      "adc_int_note =  23326.0  = adc_int_note =  84\n",
      "adc_int_note =  14259.0  = adc_int_note =  37\n",
      "adc_int_note =  8363.0  = adc_int_note =  7\n",
      "adc_int_note =  22138.0  = adc_int_note =  78\n",
      "adc_int_note =  11377.0  = adc_int_note =  22\n",
      "adc_int_note =  11014.0  = adc_int_note =  20\n",
      "adc_int_note =  8808.0  = adc_int_note =  9\n",
      "adc_int_note =  9059.0  = adc_int_note =  10\n",
      "adc_int_note =  7223.0  = adc_int_note =  1\n",
      "adc_int_note =  7218.0  = adc_int_note =  1\n",
      "adc_int_note =  8230.0  = adc_int_note =  6\n",
      "adc_int_note =  9291.0  = adc_int_note =  11\n",
      "adc_int_note =  7467.0  = adc_int_note =  2\n",
      "adc_int_note =  14539.0  = adc_int_note =  39\n",
      "adc_int_note =  7198.0  = adc_int_note =  1\n",
      "adc_int_note =  10194.0  = adc_int_note =  16\n",
      "adc_int_note =  8662.0  = adc_int_note =  8\n",
      "adc_int_note =  7584.0  = adc_int_note =  3\n",
      "adc_int_note =  8316.0  = adc_int_note =  6\n",
      "adc_int_note =  7267.0  = adc_int_note =  1\n",
      "adc_int_note =  27694.0  = adc_int_note =  107\n",
      "adc_int_note =  10660.0  = adc_int_note =  18\n",
      "adc_int_note =  16550.0  = adc_int_note =  49\n",
      "adc_int_note =  12056.0  = adc_int_note =  26\n",
      "adc_int_note =  20352.0  = adc_int_note =  69\n",
      "adc_int_note =  10885.0  = adc_int_note =  20\n",
      "adc_int_note =  11064.0  = adc_int_note =  21\n",
      "adc_int_note =  12047.0  = adc_int_note =  26\n",
      "adc_int_note =  8105.0  = adc_int_note =  5\n",
      "adc_int_note =  7785.0  = adc_int_note =  4\n",
      "adc_int_note =  19311.0  = adc_int_note =  63\n",
      "adc_int_note =  20896.0  = adc_int_note =  71\n",
      "adc_int_note =  15658.0  = adc_int_note =  44\n",
      "adc_int_note =  14277.0  = adc_int_note =  37\n",
      "adc_int_note =  13289.0  = adc_int_note =  32\n",
      "adc_int_note =  12900.0  = adc_int_note =  30\n",
      "adc_int_note =  11494.0  = adc_int_note =  23\n",
      "adc_int_note =  9457.0  = adc_int_note =  12\n",
      "adc_int_note =  8488.0  = adc_int_note =  7\n",
      "adc_int_note =  10100.0  = adc_int_note =  16\n",
      "adc_int_note =  9595.0  = adc_int_note =  13\n",
      "adc_int_note =  9291.0  = adc_int_note =  11\n",
      "adc_int_note =  7885.0  = adc_int_note =  4\n",
      "adc_int_note =  29215.0  = adc_int_note =  115\n",
      "adc_int_note =  11779.0  = adc_int_note =  24\n",
      "adc_int_note =  15321.0  = adc_int_note =  43\n",
      "Total number of notes =  74\n"
     ]
    }
   ],
   "source": [
    "track    = 0\n",
    "channel  = 0\n",
    "time     = 0    # In beats\n",
    "duration = 1    # In beats\n",
    "tempo    = 120   # In BPM\n",
    "volume   = 100  # 0-127, as per the MIDI standard\n",
    "nadc_int_notes = 0\n",
    "\n",
    "MyMIDI = MIDIFile(1)  # One track, defaults to format 1 (tempo track is created automatically)\n",
    "MyMIDI.addTempo(track, time, tempo)\n",
    "\n",
    "print('nevts = ',adc_arr.shape[0],', nPMTs = ',adc_arr.shape[1])\n",
    "for evt in range(0,adc_arr.shape[0]):\n",
    "    for pmt in range(0,adc_arr.shape[1]-2):\n",
    "        if adc_arr[evt][pmt] > min_adc_int_hit:\n",
    "            nadc_int_notes = nadc_int_notes + 1\n",
    "            adc_int_note = int((adc_arr[evt][pmt] - min_adc_int_hit)/(max_adc_int - min_adc_int_hit) * max_note)\n",
    "            print('adc_int_note = ',adc_arr[evt][pmt],' = adc_int_note = ', adc_int_note)\n",
    "            MyMIDI.addNote(track, channel, adc_int_note, time + nadc_int_notes, duration, volume)\n",
    "            #Seems to be an octave issue (adds or subtracts 12 from value) limiting to 115 instead of 127.\n",
    "\n",
    "print('Total number of notes = ', nadc_int_notes)\n",
    "with open(\"HCal_Test.mid\", \"wb\") as output_file:\n",
    "    MyMIDI.writeFile(output_file)"
   ]
  },
  {
   "cell_type": "code",
   "execution_count": null,
   "metadata": {},
   "outputs": [],
   "source": []
  }
 ],
 "metadata": {
  "kernelspec": {
   "display_name": "Python 3",
   "language": "python",
   "name": "python3"
  },
  "language_info": {
   "codemirror_mode": {
    "name": "ipython",
    "version": 3
   },
   "file_extension": ".py",
   "mimetype": "text/x-python",
   "name": "python",
   "nbconvert_exporter": "python",
   "pygments_lexer": "ipython3",
   "version": "3.7.3"
  }
 },
 "nbformat": 4,
 "nbformat_minor": 4
}
