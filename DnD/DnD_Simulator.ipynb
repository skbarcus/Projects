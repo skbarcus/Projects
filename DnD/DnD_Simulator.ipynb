{
 "cells": [
  {
   "cell_type": "code",
   "execution_count": 1,
   "metadata": {},
   "outputs": [],
   "source": [
    "import numpy as np\n",
    "from random import seed\n",
    "from random import random\n",
    "from random import randint\n",
    "\n",
    "#Define dictionary with monsters and their stats.\n",
    "monsters = {'goblin':{'stats':[8,14,10,10,8,8],'ac':15,'hp':7,'actions':{'scimitar':{'hit':4,'damage':'1d6+2'},'shortbow':{'hit':4,'damage':'1d6+2'}}}}"
   ]
  },
  {
   "cell_type": "code",
   "execution_count": 2,
   "metadata": {},
   "outputs": [
    {
     "name": "stdout",
     "output_type": "stream",
     "text": [
      "{'stats': [8, 14, 10, 10, 8, 8], 'ac': 15, 'hp': 7, 'actions': {'scimitar': {'hit': 4, 'damage': '1d6+2'}, 'shortbow': {'hit': 4, 'damage': '1d6+2'}}}\n",
      "14\n",
      "1d6+2\n"
     ]
    }
   ],
   "source": [
    "print(monsters['goblin'])\n",
    "print(monsters['goblin']['stats'][1])\n",
    "print(monsters['goblin']['actions']['scimitar']['damage'])\n",
    "#for x in monsters.values():\n",
    "#  print(x)"
   ]
  },
  {
   "cell_type": "code",
   "execution_count": 3,
   "metadata": {},
   "outputs": [
    {
     "name": "stdout",
     "output_type": "stream",
     "text": [
      "Initiative = 20\n",
      "d =  1\n",
      "sign =  3\n",
      "num =  1\n",
      "die =  6\n",
      "mod =  2\n"
     ]
    },
    {
     "data": {
      "text/plain": [
       "6"
      ]
     },
     "execution_count": 3,
     "metadata": {},
     "output_type": "execute_result"
    }
   ],
   "source": [
    "def init(combatant):\n",
    "    #Roll a d20 and add the initiative modifier of the combatant.\n",
    "    init1 = np.random.randint(1,21) + int((monsters[combatant]['stats'][1] - 10)/2 )\n",
    "    return init1\n",
    "    \n",
    "print('Initiative =',init('goblin'))\n",
    "\n",
    "def damage(combatant):\n",
    "    #Read in the damage of the weapon.\n",
    "    damage = monsters[combatant]['actions']['scimitar']['damage']\n",
    "    \n",
    "    #Find the location of 'd' in the damage. E.g. 1d6+2 has 'd' at position 1 in damage.\n",
    "    for i in range(len(damage)):\n",
    "        #print(damage[i])\n",
    "        if damage[i]=='d':\n",
    "            d = i\n",
    "    print('d = ',d)\n",
    "    \n",
    "    #Find the location of '+' in damage or see if it doesn't exist (i.e. no modifier).\n",
    "    sign = 0\n",
    "    for i in range(len(damage)):\n",
    "        if damage[i]=='+':\n",
    "            sign = i\n",
    "    print('sign = ',sign)\n",
    "    \n",
    "    #Find how many dice to roll for the attack damage by reading up to 'd' and setting that value to an integer.\n",
    "    for i in range(d):\n",
    "        if i==0:\n",
    "            num = damage[i]\n",
    "        else:\n",
    "            num = num + damage[i]\n",
    "    #Change num from string to int.\n",
    "    num = int(num)\n",
    "    print('num = ',num)\n",
    "    \n",
    "    #Find what type of dice to roll by reading the characters after d, but before '+'.\n",
    "    #If no modifier to damage roll sign=0 and read from after 'd' to end of len(damage).\n",
    "    if sign==0:\n",
    "        for i in range(d+1,len(damage)):\n",
    "            if i==(d+1):\n",
    "                die = damage[i]\n",
    "            else:\n",
    "                die = die + damage[i]\n",
    "    #If there is a modifier to the damage read from after 'd' to '+'.\n",
    "    else:\n",
    "        for i in range(d+1,sign):\n",
    "            if i==(d+1):\n",
    "                die = damage[i]\n",
    "            else:\n",
    "                die = die + damage[i]\n",
    "    #Change die from string to int.\n",
    "    die = int(die)\n",
    "    print('die = ',die)\n",
    "    \n",
    "    #Determine damage modifier by reading from beyond '+' to end of len(damage).\n",
    "    if sign == 0:\n",
    "        mod = 0\n",
    "    else:\n",
    "        for i in range(sign+1,len(damage)):\n",
    "            if i==(sign+1):\n",
    "                mod = damage[i]\n",
    "            else:\n",
    "                mod = mod + damage[i]\n",
    "    #Change mod from string to int.\n",
    "    mod = int(mod)\n",
    "    print('mod = ',mod)\n",
    "    \n",
    "    #Initialize damage to zero.\n",
    "    dmg = 0\n",
    "    #Calculate damage by rolling 'num'd'die'+'mod'.\n",
    "    for i in range(num):\n",
    "        dmg = dmg + np.random.randint(1,die+1)\n",
    "    dmg = dmg + mod\n",
    "    \n",
    "    return dmg\n",
    "\n",
    "damage('goblin')"
   ]
  },
  {
   "cell_type": "code",
   "execution_count": 4,
   "metadata": {},
   "outputs": [
    {
     "name": "stdout",
     "output_type": "stream",
     "text": [
      "5\n"
     ]
    }
   ],
   "source": [
    "print(len('hello'))"
   ]
  },
  {
   "cell_type": "code",
   "execution_count": 5,
   "metadata": {},
   "outputs": [
    {
     "name": "stdout",
     "output_type": "stream",
     "text": [
      "7.0\n"
     ]
    }
   ],
   "source": [
    "test = '14d6+8'\n",
    "num = test[0]+test[1]\n",
    "num = int(num)\n",
    "print(num/2)"
   ]
  },
  {
   "cell_type": "code",
   "execution_count": null,
   "metadata": {},
   "outputs": [],
   "source": []
  }
 ],
 "metadata": {
  "kernelspec": {
   "display_name": "Python 3",
   "language": "python",
   "name": "python3"
  },
  "language_info": {
   "codemirror_mode": {
    "name": "ipython",
    "version": 3
   },
   "file_extension": ".py",
   "mimetype": "text/x-python",
   "name": "python",
   "nbconvert_exporter": "python",
   "pygments_lexer": "ipython3",
   "version": "3.7.3"
  }
 },
 "nbformat": 4,
 "nbformat_minor": 2
}
