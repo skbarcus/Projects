{
 "cells": [
  {
   "cell_type": "code",
   "execution_count": 1,
   "metadata": {},
   "outputs": [],
   "source": [
    "import numpy as np\n",
    "from random import seed\n",
    "from random import random\n",
    "from random import randint\n",
    "\n",
    "#Define dictionary with monsters and their stats.\n",
    "monsters = {'goblin':{'stats':[8,14,10,10,8,8],'ac':15,'hp':7,'actions':{'scimitar':{'hit':4,'damage':'1d6+2'},'shortbow':{'hit':4,'damage':'1d6+2'}}}}"
   ]
  },
  {
   "cell_type": "code",
   "execution_count": 2,
   "metadata": {},
   "outputs": [
    {
     "name": "stdout",
     "output_type": "stream",
     "text": [
      "{'stats': [8, 14, 10, 10, 8, 8], 'ac': 15, 'hp': 7, 'actions': {'scimitar': {'hit': 4, 'damage': '1d6+2'}, 'shortbow': {'hit': 4, 'damage': '1d6+2'}}}\n",
      "14\n",
      "1d6+2\n"
     ]
    }
   ],
   "source": [
    "print(monsters['goblin'])\n",
    "print(monsters['goblin']['stats'][1])\n",
    "print(monsters['goblin']['actions']['scimitar']['damage'])\n",
    "#for x in monsters.values():\n",
    "#  print(x)"
   ]
  },
  {
   "cell_type": "code",
   "execution_count": 102,
   "metadata": {},
   "outputs": [
    {
     "name": "stdout",
     "output_type": "stream",
     "text": [
      "Initiative = 16\n",
      "roll to hit = 24  vs AC 15\n",
      "Hit =  2\n",
      "Damage = 7\n"
     ]
    }
   ],
   "source": [
    "#Create an initiative roll function.\n",
    "def init(combatant):\n",
    "    #Roll a d20 and add the initiative modifier of the combatant.\n",
    "    init1 = np.random.randint(1,21) + int((monsters[combatant]['stats'][1] - 10)/2 )\n",
    "    return init1\n",
    "    \n",
    "print('Initiative =',init('goblin'))\n",
    "\n",
    "#Create a function to determine if one combatant hits the other with their attack.\n",
    "def hit(combatant1,combatant2):\n",
    "    #Flag for if the attack hits 0=miss, 1=hit, 2=crit.\n",
    "    hit = 0\n",
    "    #Roll a d20 and add the hit modifier for the attack.\n",
    "    roll = np.random.randint(1,21) + int(monsters[combatant1]['actions']['scimitar']['hit'])\n",
    "    #Check hit rolled vs AC.\n",
    "    print('roll to hit =',roll,' vs AC',monsters[combatant2]['ac'])\n",
    "    if roll >= int(monsters[combatant2]['ac']):\n",
    "        hit = 1\n",
    "    if roll == 20+int(monsters[combatant1]['actions']['scimitar']['hit']):\n",
    "        hit = 2\n",
    "    return hit\n",
    "print('Hit = ',hit('goblin','goblin'))\n",
    "\n",
    "def damage(combatant):\n",
    "    #Read in the damage of the weapon.\n",
    "    damage = monsters[combatant]['actions']['scimitar']['damage']\n",
    "    \n",
    "    #Find the location of 'd' in the damage. E.g. 1d6+2 has 'd' at position 1 in damage.\n",
    "    for i in range(len(damage)):\n",
    "        #print(damage[i])\n",
    "        if damage[i]=='d':\n",
    "            d = i\n",
    "    \n",
    "    #Find the location of '+' in damage or see if it doesn't exist (i.e. no modifier).\n",
    "    sign = 0\n",
    "    for i in range(len(damage)):\n",
    "        if damage[i]=='+':\n",
    "            sign = i\n",
    "    \n",
    "    #Find how many dice to roll for the attack damage by reading up to 'd' and setting that value to an integer.\n",
    "    for i in range(d):\n",
    "        if i==0:\n",
    "            num = damage[i]\n",
    "        else:\n",
    "            num = num + damage[i]\n",
    "    #Change num from string to int.\n",
    "    num = int(num)\n",
    "    \n",
    "    #Find what type of dice to roll by reading the characters after d, but before '+'.\n",
    "    #If no modifier to damage roll sign=0 and read from after 'd' to end of len(damage).\n",
    "    if sign==0:\n",
    "        for i in range(d+1,len(damage)):\n",
    "            if i==(d+1):\n",
    "                die = damage[i]\n",
    "            else:\n",
    "                die = die + damage[i]\n",
    "    #If there is a modifier to the damage read from after 'd' to '+'.\n",
    "    else:\n",
    "        for i in range(d+1,sign):\n",
    "            if i==(d+1):\n",
    "                die = damage[i]\n",
    "            else:\n",
    "                die = die + damage[i]\n",
    "    #Change die from string to int.\n",
    "    die = int(die)\n",
    "    \n",
    "    #Determine damage modifier by reading from beyond '+' to end of len(damage).\n",
    "    if sign == 0:\n",
    "        mod = 0\n",
    "    else:\n",
    "        for i in range(sign+1,len(damage)):\n",
    "            if i==(sign+1):\n",
    "                mod = damage[i]\n",
    "            else:\n",
    "                mod = mod + damage[i]\n",
    "    #Change mod from string to int.\n",
    "    mod = int(mod)\n",
    "    \n",
    "    #Initialize damage to zero.\n",
    "    dmg = 0\n",
    "    #Calculate damage by rolling 'num'd'die'+'mod'.\n",
    "    for i in range(num):\n",
    "        dmg = dmg + np.random.randint(1,die+1)\n",
    "    dmg = dmg + mod\n",
    "    \n",
    "    return dmg\n",
    "\n",
    "print('Damage =',damage('goblin'))"
   ]
  },
  {
   "cell_type": "code",
   "execution_count": 139,
   "metadata": {},
   "outputs": [
    {
     "name": "stdout",
     "output_type": "stream",
     "text": [
      "Combatant1 hp =  7\n",
      "Combatant2 hp =  7\n",
      "Combatant 1 initiative =  12\n",
      "Combatant 2 initiative =  12\n",
      "Combatant  1  goes first.\n",
      "roll to hit = 15  vs AC 15\n",
      "Combatant1 hits for  6 !\n",
      "Combatant1 hp =  7  Combatant2 hp = 1\n",
      "roll to hit = 6  vs AC 15\n",
      "Combatant1 misses.\n",
      "roll to hit = 23  vs AC 15\n",
      "Combatant1 hits for  7 !\n",
      "Combatant1 hp =  7  Combatant2 hp = -6\n"
     ]
    }
   ],
   "source": [
    "def combat(combatant1,combatant2):\n",
    "    #Set combatant hps.\n",
    "    hp1 = int(monsters[combatant1]['hp'])\n",
    "    print('Combatant1 hp = ',hp1)\n",
    "    hp2 = int(monsters[combatant2]['hp'])\n",
    "    print('Combatant2 hp = ',hp2)\n",
    "    \n",
    "    #Roll initiative for combatants.\n",
    "    init1 = init(combatant1)\n",
    "    print('Combatant 1 initiative = ',init1)\n",
    "    init2 = init(combatant2)\n",
    "    print('Combatant 2 initiative = ',init2)\n",
    "    \n",
    "    #Higher initiative goes first. If tie flip a coin (could add dex modifier tie breaker later).\n",
    "    if init1>init2:\n",
    "        first = 'combatant1'\n",
    "        second = 'combatant2'\n",
    "    elif init2>init1:\n",
    "        first = 'combatant2'\n",
    "        second = 'combatant1'\n",
    "    #In case of initiative tie flip coin.\n",
    "    else:\n",
    "        flip = np.random.randint(1,3)\n",
    "        if flip == 1:\n",
    "            first = 'combatant1'\n",
    "            second = 'combatant2'\n",
    "        if flip == 2:\n",
    "            first = 'combatant2'\n",
    "            second = 'combatant1'\n",
    "        \n",
    "        \n",
    "    print('Combatant ',first,' goes first.')\n",
    "        \n",
    "    while hp1 and hp2 > 0:\n",
    "        finished = 0\n",
    "        if first == 1:\n",
    "            hit1 = hit(combatant1,combatant2)\n",
    "            if hit1 == 1:\n",
    "                dmg1 = damage(combatant1)\n",
    "                hp2 = hp2 - dmg1\n",
    "                print('Combatant1 hits for ',dmg1,'!')\n",
    "                print('Combatant1 hp = ',hp1,' Combatant2 hp =',hp2)\n",
    "                if hp2 < 0:\n",
    "                    finished = 1\n",
    "                    break\n",
    "            else:\n",
    "                print('Combatant1 misses.')\n",
    "            \n",
    "    \n",
    "combat('goblin','goblin')"
   ]
  },
  {
   "cell_type": "code",
   "execution_count": 118,
   "metadata": {},
   "outputs": [
    {
     "data": {
      "text/plain": [
       "2"
      ]
     },
     "execution_count": 118,
     "metadata": {},
     "output_type": "execute_result"
    }
   ],
   "source": [
    "np.random.randint(1,3)"
   ]
  }
 ],
 "metadata": {
  "kernelspec": {
   "display_name": "Python 3",
   "language": "python",
   "name": "python3"
  },
  "language_info": {
   "codemirror_mode": {
    "name": "ipython",
    "version": 3
   },
   "file_extension": ".py",
   "mimetype": "text/x-python",
   "name": "python",
   "nbconvert_exporter": "python",
   "pygments_lexer": "ipython3",
   "version": "3.7.3"
  }
 },
 "nbformat": 4,
 "nbformat_minor": 2
}
